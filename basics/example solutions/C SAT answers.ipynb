{
 "cells": [
  {
   "cell_type": "code",
   "execution_count": 1,
   "id": "708dddc0",
   "metadata": {},
   "outputs": [],
   "source": [
    "from pysat.formula import CNF\n",
    "from pysat.solvers import MinisatGH"
   ]
  },
  {
   "cell_type": "code",
   "execution_count": 2,
   "id": "dac30678",
   "metadata": {},
   "outputs": [],
   "source": [
    "\n",
    "def solve(formula):\n",
    "    solver = MinisatGH()\n",
    "    solver.append_formula(formula)\n",
    "    for i, model in enumerate(solver.enum_models(), 1):\n",
    "        print(\"MODEL #{}:\".format(i))\n",
    "        for lit in model:\n",
    "            if lit > 0:\n",
    "                print(\"Variable {} is true\".format(lit))\n",
    "            else:\n",
    "                print(\"Variable {} is false\".format(-1*lit))"
   ]
  },
  {
   "cell_type": "code",
   "execution_count": 4,
   "id": "30341d58",
   "metadata": {},
   "outputs": [
    {
     "name": "stdout",
     "output_type": "stream",
     "text": [
      "MODEL #1:\n",
      "Variable 1 is false\n",
      "Variable 2 is true\n",
      "Variable 3 is true\n",
      "Variable 4 is false\n",
      "Variable 5 is false\n",
      "Variable 6 is true\n"
     ]
    }
   ],
   "source": [
    "formula_C_1 = CNF()\n",
    "\n",
    "#First let 1, 2 represent a being a knight and b being a knive. \n",
    "#Then let 3, 4 represent them being a knave\n",
    "\n",
    "#We must sure that a is either a knight or a knave\n",
    "formula_C_1.append([1,3])\n",
    "formula_C_1.append([-1,-3])\n",
    "\n",
    "#The same for b. \n",
    "formula_C_1.append([2,4])\n",
    "formula_C_1.append([-2,-4])\n",
    "\n",
    "\n",
    "# If a is a knight then statement 5 ( speaking the truth ) should be true (uses implication to CNFs)\n",
    "formula_C_1.append([-1, 5])\n",
    "\n",
    "# If a is a knave then statement 6  (a is lying) should be true\n",
    "formula_C_1.append([-3, 6])\n",
    "\n",
    "\n",
    "#Speeking the truth then implies that they are both knaves\n",
    "formula_C_1.append([-5, 3])\n",
    "formula_C_1.append([-5, 4])\n",
    "\n",
    "\n",
    "\n",
    "#Lying then imples that that a is a knight or b is a knight. \n",
    "formula_C_1.append([-6, 1,2])\n",
    "\n",
    "solve(formula_C_1)\n"
   ]
  },
  {
   "cell_type": "markdown",
   "id": "1e6f5482",
   "metadata": {},
   "source": [
    "To interpret the answer we need to check variables 1 t/m 4. In this case we see that 2 and 3 is true. Which we have giving the meaning that a is a knave (3) and b is a knight(2)."
   ]
  },
  {
   "cell_type": "code",
   "execution_count": 25,
   "id": "55869205",
   "metadata": {},
   "outputs": [
    {
     "name": "stdout",
     "output_type": "stream",
     "text": [
      "MODEL #1:\n",
      "Variable 1 is true\n",
      "Variable 2 is false\n",
      "Variable 3 is false\n",
      "Variable 4 is true\n",
      "Variable 5 is true\n",
      "Variable 6 is false\n"
     ]
    }
   ],
   "source": [
    "formula_C_2 = CNF()\n",
    "\n",
    "# Same setup as before\n",
    "formula_C_2.append([1,3])\n",
    "formula_C_2.append([-1,-3])\n",
    "\n",
    "\n",
    "formula_C_2.append([2,4])\n",
    "formula_C_2.append([-2,-4])\n",
    "\n",
    "\n",
    "formula_C_2.append([-1, 5])\n",
    "\n",
    "\n",
    "formula_C_2.append([-3, 6])\n",
    "\n",
    "\n",
    "#Speaking the truth implies that at least one is a knave\n",
    "formula_C_2.append([-5, 3, 4])\n",
    "\n",
    "\n",
    "\n",
    "#If a is lying then we have that they are both knights \n",
    "formula_C_2.append([-6, 1])\n",
    "formula_C_2.append([-6, 2])\n",
    "\n",
    "\n",
    "\n",
    "\n",
    "\n",
    "solve(formula_C_2)\n"
   ]
  },
  {
   "cell_type": "code",
   "execution_count": 26,
   "id": "5a7a4d39",
   "metadata": {},
   "outputs": [
    {
     "name": "stdout",
     "output_type": "stream",
     "text": [
      "MODEL #1:\n",
      "Variable 1 is true\n",
      "Variable 2 is true\n",
      "Variable 3 is false\n",
      "Variable 4 is false\n",
      "Variable 5 is true\n",
      "Variable 6 is false\n"
     ]
    }
   ],
   "source": [
    "formula_C_3 = CNF()\n",
    "\n",
    "formula_C_3.append([1,3])\n",
    "formula_C_3.append([-1,-3])\n",
    "formula_C_3.append([2,4])\n",
    "formula_C_3.append([-2,-4])\n",
    "\n",
    "formula_C_3.append([-1, 5])\n",
    "\n",
    "formula_C_3.append([-3, 6])\n",
    "\n",
    "\n",
    "#If I am a knight then so is my partner (implication to CNF)\n",
    "formula_C_3.append([-5, -1, 2])\n",
    "\n",
    "\n",
    "\n",
    "#If a is a knave we know that he lied and thus we have that if he is a knight but his partner is not\n",
    "formula_C_3.append([-6, 1])\n",
    "formula_C_3.append([-6, 4])\n",
    "\n",
    "\n",
    "\n",
    "\n",
    "\n",
    "solve(formula_C_3)"
   ]
  },
  {
   "cell_type": "code",
   "execution_count": 29,
   "id": "8326514b",
   "metadata": {},
   "outputs": [
    {
     "name": "stdout",
     "output_type": "stream",
     "text": [
      "MODEL #1:\n",
      "Variable 1 is false\n",
      "Variable 2 is true\n",
      "Variable 3 is true\n",
      "Variable 4 is false\n",
      "Variable 5 is false\n",
      "Variable 6 is true\n",
      "Variable 7 is false\n",
      "Variable 8 is false\n",
      "MODEL #2:\n",
      "Variable 1 is true\n",
      "Variable 2 is true\n",
      "Variable 3 is false\n",
      "Variable 4 is false\n",
      "Variable 5 is true\n",
      "Variable 6 is false\n",
      "Variable 7 is true\n",
      "Variable 8 is false\n"
     ]
    }
   ],
   "source": [
    "formula_C_4 = CNF()\n",
    "\n",
    "\n",
    "formula_C_4.append([1,3])\n",
    "formula_C_4.append([-1,-3])\n",
    "\n",
    "\n",
    "formula_C_4.append([2,4])\n",
    "formula_C_4.append([-2,-4])\n",
    "formula_C_4.append([-1, 5])\n",
    "\n",
    "\n",
    "formula_C_4.append([-3, 6])\n",
    "\n",
    "\n",
    "\n",
    "\n",
    "#If speaking truth both knights (7) or both knaves (8) (first split in an or statement)\n",
    "formula_C_4.append([-5, 7, 8])\n",
    "# Both knights\n",
    "formula_C_4.append([-7, 1])\n",
    "formula_C_4.append([-7, 2])\n",
    "\n",
    "# Both knaves\n",
    "formula_C_4.append([-8, 3])\n",
    "formula_C_4.append([-8, 4])\n",
    "\n",
    "\n",
    "\n",
    "#If a is lying then we must have that one of the two is a knight and one is a knave\n",
    "formula_C_4.append([-6, 1, 2])\n",
    "formula_C_4.append([-6, -1, -2])\n",
    "\n",
    "solve(formula_C_4)\n",
    "\n"
   ]
  },
  {
   "cell_type": "code",
   "execution_count": null,
   "id": "b0ae401c",
   "metadata": {},
   "outputs": [],
   "source": []
  }
 ],
 "metadata": {
  "kernelspec": {
   "display_name": "Python 3",
   "language": "python",
   "name": "python3"
  },
  "language_info": {
   "codemirror_mode": {
    "name": "ipython",
    "version": 3
   },
   "file_extension": ".py",
   "mimetype": "text/x-python",
   "name": "python",
   "nbconvert_exporter": "python",
   "pygments_lexer": "ipython3",
   "version": "3.7.10"
  }
 },
 "nbformat": 4,
 "nbformat_minor": 5
}
